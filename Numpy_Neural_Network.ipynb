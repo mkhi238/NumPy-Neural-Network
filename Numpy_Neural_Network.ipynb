{
  "nbformat": 4,
  "nbformat_minor": 0,
  "metadata": {
    "colab": {
      "provenance": [],
      "authorship_tag": "ABX9TyN9r0n/Xih2r8d/MX1LjLVa",
      "include_colab_link": true
    },
    "kernelspec": {
      "name": "python3",
      "display_name": "Python 3"
    },
    "language_info": {
      "name": "python"
    }
  },
  "cells": [
    {
      "cell_type": "markdown",
      "metadata": {
        "id": "view-in-github",
        "colab_type": "text"
      },
      "source": [
        "<a href=\"https://colab.research.google.com/github/mkhi238/NumPy-Neural-Network/blob/main/Numpy_Neural_Network.ipynb\" target=\"_parent\"><img src=\"https://colab.research.google.com/assets/colab-badge.svg\" alt=\"Open In Colab\"/></a>"
      ]
    },
    {
      "cell_type": "code",
      "execution_count": null,
      "metadata": {
        "id": "ANKIH2dkxCef"
      },
      "outputs": [],
      "source": [
        "import numpy as np\n",
        "import pandas as pd\n",
        "import matplotlib.pyplot as plt"
      ]
    },
    {
      "cell_type": "code",
      "source": [
        "import kagglehub\n",
        "path = kagglehub.dataset_download(\"hojjatk/mnist-dataset\")\n",
        "print(\"Path to dataset files:\", path)"
      ],
      "metadata": {
        "id": "QdhO6gmSxFJe",
        "colab": {
          "base_uri": "https://localhost:8080/"
        },
        "outputId": "692b1f49-f931-488a-8f57-77aaeb039029"
      },
      "execution_count": null,
      "outputs": [
        {
          "output_type": "stream",
          "name": "stdout",
          "text": [
            "Path to dataset files: /kaggle/input/mnist-dataset\n"
          ]
        }
      ]
    },
    {
      "cell_type": "code",
      "source": [
        "train_df = pd.read_csv(\"/content/sample_data/mnist_train_small.csv\")\n",
        "test_df = pd.read_csv(\"/content/sample_data/mnist_test.csv\")"
      ],
      "metadata": {
        "id": "Mod0r-3Uxzz-"
      },
      "execution_count": null,
      "outputs": []
    },
    {
      "cell_type": "code",
      "source": [
        "train_df.rename(columns={\"6\": \"label\"}, inplace=True)\n",
        "test_df.rename(columns={\"7\": \"label\"}, inplace=True)"
      ],
      "metadata": {
        "id": "2Ef2lmA84ZRQ"
      },
      "execution_count": null,
      "outputs": []
    },
    {
      "cell_type": "code",
      "source": [
        "X_train = (train_df.drop(\"label\", axis=1).values).T\n",
        "y_train = (train_df[\"label\"].values).T\n",
        "X_test = (test_df.drop(\"label\", axis=1).values).T\n",
        "y_test = (test_df[\"label\"].values).T"
      ],
      "metadata": {
        "id": "tFBufiEY40QY"
      },
      "execution_count": null,
      "outputs": []
    },
    {
      "cell_type": "code",
      "source": [
        "X_train[:,0].shape"
      ],
      "metadata": {
        "colab": {
          "base_uri": "https://localhost:8080/"
        },
        "id": "yTYG8G_S_oL_",
        "outputId": "2218c3bc-9543-434c-f5fd-3ce8600d979d"
      },
      "execution_count": null,
      "outputs": [
        {
          "output_type": "execute_result",
          "data": {
            "text/plain": [
              "(784,)"
            ]
          },
          "metadata": {},
          "execution_count": 6
        }
      ]
    },
    {
      "cell_type": "markdown",
      "source": [
        "Version 1: SGD With He (Kaiming) initalization, LeakyReLu"
      ],
      "metadata": {
        "id": "RMsYsxOhOCJx"
      }
    },
    {
      "cell_type": "code",
      "source": [
        "import numpy as np\n",
        "\n",
        "#He (Kaiming) Initalizaiton\n",
        "def init_params():\n",
        "    W1 = np.random.randn(155, 784) * np.sqrt(2.0 / 784)\n",
        "    B1 = np.zeros((155, 1))\n",
        "    W2 = np.random.randn(10, 155) * np.sqrt(2.0 / 155)\n",
        "    B2 = np.zeros((10, 1))\n",
        "    return W1, B1, W2, B2\n",
        "\n",
        "#LeakyReLu\n",
        "def LeakyReLU(Z, alpha=0.01):\n",
        "    return np.where(Z > 0, Z, alpha * Z)\n",
        "\n",
        "def deriv_LeakyReLU(Z, alpha=0.01):\n",
        "    return np.where(Z > 0, 1, alpha)\n",
        "\n",
        "def softmax(Z):\n",
        "    expZ = np.exp(Z - np.max(Z, axis=0, keepdims=True))\n",
        "    return expZ / np.sum(expZ, axis=0, keepdims=True)\n",
        "\n",
        "def forward1(X, W1, B1, W2, B2):\n",
        "    Z1 = W1 @ X + B1\n",
        "    A1 = LeakyReLU(Z1)\n",
        "    Z2 = W2 @ A1 + B2\n",
        "    A2 = softmax(Z2)\n",
        "    return Z1, A1, Z2, A2\n",
        "\n",
        "def one_hot(Y):\n",
        "    one_hot = np.zeros((Y.size, Y.max() + 1))\n",
        "    one_hot[np.arange(Y.size), Y] = 1\n",
        "    return one_hot.T\n",
        "\n",
        "def backprop(Z1, A1, Z2, A2, W1, W2, X, Y):\n",
        "    m = Y.size\n",
        "    one_hot_Y = one_hot(Y)\n",
        "\n",
        "    dZ2 = A2 - one_hot_Y\n",
        "    dW2 = 1/m * dZ2 @ A1.T\n",
        "    dB2 = 1/m * np.sum(dZ2, axis=1, keepdims=True)\n",
        "\n",
        "    dZ1 = W2.T @ dZ2 * deriv_LeakyReLU(Z1)\n",
        "    dW1 = 1/m * dZ1 @ X.T\n",
        "    dB1 = 1/m * np.sum(dZ1, axis=1, keepdims=True)\n",
        "\n",
        "    return dW1, dB1, dW2, dB2\n",
        "\n",
        "def update_params(W1, B1, W2, B2, dW1, dB1, dW2, dB2, alpha):\n",
        "    W1 -= alpha * dW1\n",
        "    B1 -= alpha * dB1\n",
        "    W2 -= alpha * dW2\n",
        "    B2 -= alpha * dB2\n",
        "    return W1, B1, W2, B2\n",
        "\n",
        "def get_predictions(A2):\n",
        "    return np.argmax(A2, axis=0)\n",
        "\n",
        "def get_accuracy(predictions, Y):\n",
        "    return np.mean(predictions == Y)\n",
        "\n",
        "def gradient_descent(X, Y, alpha, iterations):\n",
        "    W1, B1, W2, B2 = init_params()\n",
        "    training_accuracy = []\n",
        "    for i in range(iterations):\n",
        "        Z1, A1, Z2, A2 = forward1(X, W1, B1, W2, B2)\n",
        "        dW1, dB1, dW2, dB2 = backprop(Z1, A1, Z2, A2, W1, W2, X, Y)\n",
        "        W1, B1, W2, B2 = update_params(W1, B1, W2, B2, dW1, dB1, dW2, dB2, alpha)\n",
        "        if i % 10 == 0:\n",
        "            predictions = get_predictions(A2)\n",
        "            print(\"Iteration:\", i)\n",
        "            print(\"Accuracy:\", get_accuracy(predictions, Y))\n",
        "    return W1, B1, W2, B2\n",
        "\n"
      ],
      "metadata": {
        "id": "PxDbTLlC_7OP"
      },
      "execution_count": null,
      "outputs": []
    },
    {
      "cell_type": "code",
      "source": [
        "W1, B1, W2, B2 = gradient_descent(X_train, y_train, 0.01, 600)\n"
      ],
      "metadata": {
        "colab": {
          "base_uri": "https://localhost:8080/"
        },
        "id": "Kv5KGHvX4fn_",
        "outputId": "0a51bd2e-30db-4482-d216-8062b4bce759"
      },
      "execution_count": null,
      "outputs": [
        {
          "output_type": "stream",
          "name": "stdout",
          "text": [
            "Iteration: 0\n",
            "Accuracy: 0.0823041152057603\n",
            "Iteration: 10\n",
            "Accuracy: 0.10105505275263763\n",
            "Iteration: 20\n",
            "Accuracy: 0.09810490524526226\n",
            "Iteration: 30\n",
            "Accuracy: 0.027001350067503375\n",
            "Iteration: 40\n",
            "Accuracy: 0.19620981049052452\n",
            "Iteration: 50\n",
            "Accuracy: 0.2710635531776589\n",
            "Iteration: 60\n",
            "Accuracy: 0.21336066803340167\n",
            "Iteration: 70\n",
            "Accuracy: 0.31496574828741436\n",
            "Iteration: 80\n",
            "Accuracy: 0.28311415570778536\n",
            "Iteration: 90\n",
            "Accuracy: 0.37131856592829643\n",
            "Iteration: 100\n",
            "Accuracy: 0.3183659182959148\n",
            "Iteration: 110\n",
            "Accuracy: 0.4147207360368018\n",
            "Iteration: 120\n",
            "Accuracy: 0.391619580979049\n",
            "Iteration: 130\n",
            "Accuracy: 0.39476973848692437\n",
            "Iteration: 140\n",
            "Accuracy: 0.47677383869193457\n",
            "Iteration: 150\n",
            "Accuracy: 0.5021251062553128\n",
            "Iteration: 160\n",
            "Accuracy: 0.5110255512775639\n",
            "Iteration: 170\n",
            "Accuracy: 0.49712485624281216\n",
            "Iteration: 180\n",
            "Accuracy: 0.4430221511075554\n",
            "Iteration: 190\n",
            "Accuracy: 0.6469823491174559\n",
            "Iteration: 200\n",
            "Accuracy: 0.5688784439221961\n",
            "Iteration: 210\n",
            "Accuracy: 0.7072853642682134\n",
            "Iteration: 220\n",
            "Accuracy: 0.6228811440572029\n",
            "Iteration: 230\n",
            "Accuracy: 0.7047852392619631\n",
            "Iteration: 240\n",
            "Accuracy: 0.6942847142357118\n",
            "Iteration: 250\n",
            "Accuracy: 0.7612380619030952\n",
            "Iteration: 260\n",
            "Accuracy: 0.6903845192259613\n",
            "Iteration: 270\n",
            "Accuracy: 0.7397869893494675\n",
            "Iteration: 280\n",
            "Accuracy: 0.7415370768538427\n",
            "Iteration: 290\n",
            "Accuracy: 0.6887844392219611\n",
            "Iteration: 300\n",
            "Accuracy: 0.7702885144257213\n",
            "Iteration: 310\n",
            "Accuracy: 0.7369868493424672\n",
            "Iteration: 320\n",
            "Accuracy: 0.736586829341467\n",
            "Iteration: 330\n",
            "Accuracy: 0.7651882594129706\n",
            "Iteration: 340\n",
            "Accuracy: 0.7363868193409671\n",
            "Iteration: 350\n",
            "Accuracy: 0.8197409870493525\n",
            "Iteration: 360\n",
            "Accuracy: 0.7029851492574629\n",
            "Iteration: 370\n",
            "Accuracy: 0.7337866893344667\n",
            "Iteration: 380\n",
            "Accuracy: 0.8663433171658583\n",
            "Iteration: 390\n",
            "Accuracy: 0.8658432921646082\n",
            "Iteration: 400\n",
            "Accuracy: 0.8252912645632282\n",
            "Iteration: 410\n",
            "Accuracy: 0.8787939396969848\n",
            "Iteration: 420\n",
            "Accuracy: 0.831691584579229\n",
            "Iteration: 430\n",
            "Accuracy: 0.8426421321066053\n",
            "Iteration: 440\n",
            "Accuracy: 0.808790439521976\n",
            "Iteration: 450\n",
            "Accuracy: 0.8264913245662283\n",
            "Iteration: 460\n",
            "Accuracy: 0.8282414120706035\n",
            "Iteration: 470\n",
            "Accuracy: 0.8456422821141057\n",
            "Iteration: 480\n",
            "Accuracy: 0.8951947597379869\n",
            "Iteration: 490\n",
            "Accuracy: 0.9006950347517376\n",
            "Iteration: 500\n",
            "Accuracy: 0.8660433021651083\n",
            "Iteration: 510\n",
            "Accuracy: 0.7703885194259713\n",
            "Iteration: 520\n",
            "Accuracy: 0.7626381319065954\n",
            "Iteration: 530\n",
            "Accuracy: 0.8219910995549777\n",
            "Iteration: 540\n",
            "Accuracy: 0.9126456322816141\n",
            "Iteration: 550\n",
            "Accuracy: 0.9137456872843642\n",
            "Iteration: 560\n",
            "Accuracy: 0.9004450222511126\n",
            "Iteration: 570\n",
            "Accuracy: 0.879793989699485\n",
            "Iteration: 580\n",
            "Accuracy: 0.9142957147857392\n",
            "Iteration: 590\n",
            "Accuracy: 0.919745987299365\n"
          ]
        }
      ]
    },
    {
      "cell_type": "code",
      "source": [
        "_, _, _, A1_test = forward1(X_test, W1, B1, W2, B2)\n",
        "test_preds = get_predictions(A1_test)\n",
        "test_acc = get_accuracy(test_preds, y_test)\n",
        "print(f\"Test accuracy: {test_acc:.4f}\")"
      ],
      "metadata": {
        "colab": {
          "base_uri": "https://localhost:8080/"
        },
        "id": "cjjFnHt8mMZj",
        "outputId": "83446612-0f31-4e17-e72c-249fdd13baf1"
      },
      "execution_count": null,
      "outputs": [
        {
          "output_type": "stream",
          "name": "stdout",
          "text": [
            "Test accuracy: 0.8802\n"
          ]
        }
      ]
    },
    {
      "cell_type": "markdown",
      "source": [
        "Version 1: SGD With He (Kaiming) initalization, LeakyReLu, Mini-batches, and AdAM optimizer"
      ],
      "metadata": {
        "id": "w_ewQoP2pnOS"
      }
    },
    {
      "cell_type": "code",
      "source": [
        "import numpy as np\n",
        "\n",
        "#He (Kaiming) Initalizaiton\n",
        "def init_params():\n",
        "    W1 = np.random.randn(155, 784) * np.sqrt(2.0 / 784)\n",
        "    B1 = np.zeros((155, 1))\n",
        "    W2 = np.random.randn(10, 155) * np.sqrt(2.0 / 155)\n",
        "    B2 = np.zeros((10, 1))\n",
        "    return W1, B1, W2, B2\n",
        "\n",
        "#LeakyReLu\n",
        "def LeakyReLU(Z, alpha=0.01):\n",
        "    return np.where(Z > 0, Z, alpha * Z)\n",
        "\n",
        "def deriv_LeakyReLU(Z, alpha=0.01):\n",
        "    return np.where(Z > 0, 1, alpha)\n",
        "\n",
        "def softmax(Z):\n",
        "    expZ = np.exp(Z - np.max(Z, axis=0, keepdims=True))\n",
        "    return expZ / np.sum(expZ, axis=0, keepdims=True)\n",
        "\n",
        "def forward2(X, W1, B1, W2, B2):\n",
        "    Z1 = W1 @ X + B1\n",
        "    A1 = LeakyReLU(Z1)\n",
        "    Z2 = W2 @ A1 + B2\n",
        "    A2 = softmax(Z2)\n",
        "    return Z1, A1, Z2, A2\n",
        "\n",
        "def one_hot(Y, num_classes):\n",
        "    oh = np.zeros((num_classes, Y.size), dtype=np.float32)\n",
        "    oh[Y, np.arange(Y.size)] = 1.0\n",
        "    return oh\n",
        "\n",
        "def backprop(Z1, A1, Z2, A2, W1, W2, X, Y):\n",
        "    m = Y.size\n",
        "    one_hot_Y = one_hot(Y, num_classes=A2.shape[0])\n",
        "\n",
        "    dZ2 = A2 - one_hot_Y\n",
        "    dW2 = 1/m * dZ2 @ A1.T\n",
        "    dB2 = 1/m * np.sum(dZ2, axis=1, keepdims=True)\n",
        "\n",
        "    dZ1 = W2.T @ dZ2 * deriv_LeakyReLU(Z1)\n",
        "    dW1 = 1/m * dZ1 @ X.T\n",
        "    dB1 = 1/m * np.sum(dZ1, axis=1, keepdims=True)\n",
        "\n",
        "    return dW1, dB1, dW2, dB2\n",
        "\n",
        "def update_params(W1, B1, W2, B2, dW1, dB1, dW2, dB2, alpha):\n",
        "    W1 -= alpha * dW1\n",
        "    B1 -= alpha * dB1\n",
        "    W2 -= alpha * dW2\n",
        "    B2 -= alpha * dB2\n",
        "    return W1, B1, W2, B2\n",
        "\n",
        "def get_predictions(A2):\n",
        "    return np.argmax(A2, axis=0)\n",
        "\n",
        "def get_accuracy(predictions, Y):\n",
        "    return np.mean(predictions == Y)\n",
        "\n",
        "def iter_minibatch_generator(X, Y, batchsize = 256, shuffle = True):\n",
        "  m = X.shape[1]\n",
        "  idx = np.arange(m)\n",
        "  if shuffle:\n",
        "    np.random.shuffle(idx)\n",
        "\n",
        "  for i in range(0, m, batchsize):\n",
        "    sel = idx[i:i+batchsize]\n",
        "    yield X[:, sel], Y[sel]\n",
        "\n",
        "\n",
        "def gradient_descent_adam(X, Y, alpha=1e-3, iterations=200, batch_size=256, beta1=0.9, beta2=0.999, e=1e-8):\n",
        "    W1, B1, W2, B2 = init_params()\n",
        "    mW1 = np.zeros_like(W1)\n",
        "    vW1 = np.zeros_like(W1)\n",
        "    mB1 = np.zeros_like(B1)\n",
        "    vB1 = np.zeros_like(B1)\n",
        "    mW2 = np.zeros_like(W2)\n",
        "    vW2 = np.zeros_like(W2)\n",
        "    mB2 = np.zeros_like(B2)\n",
        "    vB2 = np.zeros_like(B2)\n",
        "    t = 0\n",
        "\n",
        "    def adam_step(param, grad, m, v, t):\n",
        "      m = beta1 * m + (1 - beta1) * grad\n",
        "      v = beta2 * v + (1 - beta2) * (grad * grad)\n",
        "      m_hat = m / (1 - beta1 ** t)\n",
        "      v_hat = v / (1 - beta2 ** t)\n",
        "      param = param - alpha * m_hat / (np.sqrt(v_hat) + e)\n",
        "      return param, m, v\n",
        "\n",
        "\n",
        "    for i in range(iterations):\n",
        "\n",
        "        for X_batch, Y_batch in iter_minibatch_generator(X, Y, batch_size):\n",
        "          Z1, A1, Z2, A2 = forward2(X_batch, W1, B1, W2, B2)\n",
        "          dW1, dB1, dW2, dB2 = backprop(Z1, A1, Z2, A2, W1, W2, X_batch, Y_batch)\n",
        "          t += 1\n",
        "          W1, mW1, vW1 = adam_step(W1, dW1, mW1, vW1, t)\n",
        "          B1, mB1, vB1 = adam_step(B1, dB1, mB1, vB1, t)\n",
        "          W2, mW2, vW2 = adam_step(W2, dW2, mW2, vW2, t)\n",
        "          B2, mB2, vB2 = adam_step(B2, dB2, mB2, vB2, t)\n",
        "\n",
        "\n",
        "        _, _, _, A2_full = forward2(X, W1, B1, W2, B2)\n",
        "        preds = get_predictions(A2_full)\n",
        "        acc = get_accuracy(preds, Y)\n",
        "        if i % 10 == 0:\n",
        "          print(f\"Epoch {i:02d} | Accuracy: {acc:.4f}\")\n",
        "\n",
        "\n",
        "    return W1, B1, W2, B2\n",
        "\n"
      ],
      "metadata": {
        "id": "oSGw9wluLD_i"
      },
      "execution_count": null,
      "outputs": []
    },
    {
      "cell_type": "code",
      "source": [
        "W1, B1, W2, B2 = gradient_descent_adam(X_train, y_train, alpha=0.01, iterations=100, batch_size=64, beta1=0.9, beta2=0.999, e=1e-8)"
      ],
      "metadata": {
        "colab": {
          "base_uri": "https://localhost:8080/"
        },
        "id": "xl8W-ga9nzp1",
        "outputId": "52f9ec90-e0bb-4f7d-ffa6-9f02df1218a5"
      },
      "execution_count": null,
      "outputs": [
        {
          "output_type": "stream",
          "name": "stdout",
          "text": [
            "Epoch 00 | Accuracy: 0.8543\n",
            "Epoch 10 | Accuracy: 0.8859\n",
            "Epoch 20 | Accuracy: 0.8878\n",
            "Epoch 30 | Accuracy: 0.9318\n",
            "Epoch 40 | Accuracy: 0.9345\n",
            "Epoch 50 | Accuracy: 0.9334\n",
            "Epoch 60 | Accuracy: 0.9574\n",
            "Epoch 70 | Accuracy: 0.9540\n",
            "Epoch 80 | Accuracy: 0.9665\n",
            "Epoch 90 | Accuracy: 0.9689\n"
          ]
        }
      ]
    },
    {
      "cell_type": "code",
      "source": [
        "_, _, _, A2_test = forward2(X_test, W1, B1, W2, B2)\n",
        "test_preds = get_predictions(A2_test)\n",
        "test_acc = get_accuracy(test_preds, y_test)\n",
        "print(f\"Test accuracy: {test_acc:.4f}\")"
      ],
      "metadata": {
        "colab": {
          "base_uri": "https://localhost:8080/"
        },
        "id": "ta0FVXaRn55C",
        "outputId": "19255fa6-0b7b-4199-9eaa-635f6a33a5fe"
      },
      "execution_count": null,
      "outputs": [
        {
          "output_type": "stream",
          "name": "stdout",
          "text": [
            "Test accuracy: 0.9165\n"
          ]
        }
      ]
    }
  ]
}